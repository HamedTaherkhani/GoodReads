{
 "cells": [
  {
   "cell_type": "code",
   "execution_count": 1,
   "id": "c00b1668",
   "metadata": {},
   "outputs": [],
   "source": [
    "import json\n",
    "import pandas as pd\n",
    "from tqdm import tqdm\n",
    "import networkx as nx\n",
    "import matplotlib.pyplot as plt\n",
    "import community as community_louvain\n",
    "import numpy as np"
   ]
  },
  {
   "cell_type": "code",
   "execution_count": 2,
   "id": "637cd042",
   "metadata": {},
   "outputs": [
    {
     "name": "stdout",
     "output_type": "stream",
     "text": [
      "   text_reviews_count  average_rating  \\\n",
      "0                   1            4.00   \n",
      "1                   7            4.03   \n",
      "2                3282            3.49   \n",
      "3                   7            4.13   \n",
      "4                   6            4.22   \n",
      "\n",
      "                                       similar_books  \\\n",
      "0                                                 []   \n",
      "1  [19997, 828466, 1569323, 425389, 1176674, 2627...   \n",
      "2  [6604176, 6054190, 2285777, 82641, 7569453, 70...   \n",
      "3                                                 []   \n",
      "4  [948696, 439885, 274955, 12978730, 372986, 216...   \n",
      "\n",
      "                                  authors               publisher  num_pages  \\\n",
      "0   [{'author_id': '604031', 'role': ''}]      St. Martin's Press        256   \n",
      "1    [{'author_id': '10333', 'role': ''}]  Nelson Doubleday, Inc.        600   \n",
      "2     [{'author_id': '9212', 'role': ''}]             Atria Books        368   \n",
      "3  [{'author_id': '3041852', 'role': ''}]    Yesterday's Classics        162   \n",
      "4    [{'author_id': '19158', 'role': ''}]              Seven Seas        216   \n",
      "\n",
      "   publication_year  book_id  ratings_count  \\\n",
      "0              1984  5333265              3   \n",
      "1              1987  7327624            140   \n",
      "2              2009  6066819          51184   \n",
      "3              2006   287141             46   \n",
      "4              2009  6066812             98   \n",
      "\n",
      "                                               title  \n",
      "0                        W.C. Fields: A Life on Film  \n",
      "1  The Unschooled Wizard (Sun Wolf and Starhawk, ...  \n",
      "2                               Best Friends Forever  \n",
      "3                      The Aeneid for Boys and Girls  \n",
      "4  All's Fairy in Love and War (Avalon: Web of Ma...  \n"
     ]
    }
   ],
   "source": [
    "\n",
    "data = []\n",
    "rows_list = []\n",
    "max_number_of_books = 100000\n",
    "books = pd.DataFrame(data = data, columns=[\n",
    "    'text_reviews_count', 'average_rating',\n",
    "    'similar_books', 'authors', 'publisher',\n",
    "    'num_pages', 'publication_year','book_id',\n",
    "    'ratings_count', 'title'\n",
    "])\n",
    "count = 0\n",
    "with open('goodreads_books.json',\"r\") as jsonfile:\n",
    "    while True:\n",
    "        if count >= max_number_of_books:\n",
    "            break\n",
    "        data = jsonfile.readline()\n",
    "        if not data:\n",
    "            break\n",
    "        data = json.loads(data)\n",
    " \n",
    "        try:\n",
    "            text_reviews_count = int(data['text_reviews_count'])\n",
    "            average_rating = float(data['average_rating'])\n",
    "            publication_year = int(data['publication_year'])\n",
    "            num_pages = int(data['num_pages'])\n",
    "            ratings_count = int(data['ratings_count'])\n",
    "            book_id = int(data['book_id'])\n",
    "        except Exception:\n",
    "            continue\n",
    "\n",
    "        dict1 = {\n",
    "        'text_reviews_count':text_reviews_count,\n",
    "        'average_rating': average_rating,\n",
    "        'similar_books': data['similar_books'],\n",
    "        'authors': data['authors'],\n",
    "        'publisher': data['publisher'],\n",
    "        'num_pages': num_pages,\n",
    "        'publication_year': publication_year,\n",
    "        'book_id': book_id,\n",
    "        'ratings_count': ratings_count,\n",
    "        'title': data['title']\n",
    "        }\n",
    "        count +=1\n",
    "        rows_list.append(dict1)\n",
    "\n",
    "books = pd.DataFrame(rows_list)\n",
    "print(books.head())"
   ]
  },
  {
   "cell_type": "code",
   "execution_count": 3,
   "id": "4b1cd371",
   "metadata": {},
   "outputs": [
    {
     "data": {
      "text/html": [
       "<div>\n",
       "<style scoped>\n",
       "    .dataframe tbody tr th:only-of-type {\n",
       "        vertical-align: middle;\n",
       "    }\n",
       "\n",
       "    .dataframe tbody tr th {\n",
       "        vertical-align: top;\n",
       "    }\n",
       "\n",
       "    .dataframe thead th {\n",
       "        text-align: right;\n",
       "    }\n",
       "</style>\n",
       "<table border=\"1\" class=\"dataframe\">\n",
       "  <thead>\n",
       "    <tr style=\"text-align: right;\">\n",
       "      <th></th>\n",
       "      <th>similar_books</th>\n",
       "      <th>book_id</th>\n",
       "    </tr>\n",
       "  </thead>\n",
       "  <tbody>\n",
       "    <tr>\n",
       "      <th>0</th>\n",
       "      <td>[]</td>\n",
       "      <td>5333265</td>\n",
       "    </tr>\n",
       "    <tr>\n",
       "      <th>1</th>\n",
       "      <td>[19997, 828466, 1569323, 425389, 1176674, 2627...</td>\n",
       "      <td>7327624</td>\n",
       "    </tr>\n",
       "    <tr>\n",
       "      <th>2</th>\n",
       "      <td>[6604176, 6054190, 2285777, 82641, 7569453, 70...</td>\n",
       "      <td>6066819</td>\n",
       "    </tr>\n",
       "    <tr>\n",
       "      <th>3</th>\n",
       "      <td>[]</td>\n",
       "      <td>287141</td>\n",
       "    </tr>\n",
       "    <tr>\n",
       "      <th>4</th>\n",
       "      <td>[948696, 439885, 274955, 12978730, 372986, 216...</td>\n",
       "      <td>6066812</td>\n",
       "    </tr>\n",
       "    <tr>\n",
       "      <th>...</th>\n",
       "      <td>...</td>\n",
       "      <td>...</td>\n",
       "    </tr>\n",
       "    <tr>\n",
       "      <th>99995</th>\n",
       "      <td>[]</td>\n",
       "      <td>3440164</td>\n",
       "    </tr>\n",
       "    <tr>\n",
       "      <th>99996</th>\n",
       "      <td>[]</td>\n",
       "      <td>6310962</td>\n",
       "    </tr>\n",
       "    <tr>\n",
       "      <th>99997</th>\n",
       "      <td>[125321, 90192, 937643, 42068, 78960, 866301, ...</td>\n",
       "      <td>8112400</td>\n",
       "    </tr>\n",
       "    <tr>\n",
       "      <th>99998</th>\n",
       "      <td>[]</td>\n",
       "      <td>7055610</td>\n",
       "    </tr>\n",
       "    <tr>\n",
       "      <th>99999</th>\n",
       "      <td>[444494, 1273214, 21792501, 10489709, 1402352,...</td>\n",
       "      <td>13560348</td>\n",
       "    </tr>\n",
       "  </tbody>\n",
       "</table>\n",
       "<p>100000 rows × 2 columns</p>\n",
       "</div>"
      ],
      "text/plain": [
       "                                           similar_books   book_id\n",
       "0                                                     []   5333265\n",
       "1      [19997, 828466, 1569323, 425389, 1176674, 2627...   7327624\n",
       "2      [6604176, 6054190, 2285777, 82641, 7569453, 70...   6066819\n",
       "3                                                     []    287141\n",
       "4      [948696, 439885, 274955, 12978730, 372986, 216...   6066812\n",
       "...                                                  ...       ...\n",
       "99995                                                 []   3440164\n",
       "99996                                                 []   6310962\n",
       "99997  [125321, 90192, 937643, 42068, 78960, 866301, ...   8112400\n",
       "99998                                                 []   7055610\n",
       "99999  [444494, 1273214, 21792501, 10489709, 1402352,...  13560348\n",
       "\n",
       "[100000 rows x 2 columns]"
      ]
     },
     "execution_count": 3,
     "metadata": {},
     "output_type": "execute_result"
    }
   ],
   "source": [
    "drop_list = ['text_reviews_count', 'average_rating', 'authors',\n",
    "       'publisher', 'num_pages', 'publication_year',\n",
    "       'ratings_count', 'title']\n",
    "interaction_dataset = books.drop(columns=drop_list)\n",
    "interaction_dataset"
   ]
  },
  {
   "cell_type": "code",
   "execution_count": 74,
   "id": "35771b94",
   "metadata": {},
   "outputs": [
    {
     "name": "stderr",
     "output_type": "stream",
     "text": [
      "100%|███████████████████████████████████████████████████████████████████████| 100000/100000 [00:01<00:00, 67071.25it/s]\n"
     ]
    }
   ],
   "source": [
    "edge_list = []\n",
    "single_nodes = 0\n",
    "for i in tqdm(range(len(interaction_dataset))):\n",
    "    source = interaction_dataset['book_id'][i]\n",
    "    if len(interaction_dataset['similar_books'][i]) == 0:\n",
    "        single_nodes += 1\n",
    "    for destination in interaction_dataset['similar_books'][i]:\n",
    "        edge_list.append((source, int(destination)))\n",
    "\n",
    "G = nx.Graph()\n",
    "N = 4000 # only process the first N samples\n",
    "G.add_edges_from(edge_list[:N])"
   ]
  },
  {
   "cell_type": "markdown",
   "id": "64f03527",
   "metadata": {},
   "source": [
    "# Plot the Graph"
   ]
  },
  {
   "cell_type": "code",
   "execution_count": 75,
   "id": "b4bcd277",
   "metadata": {},
   "outputs": [
    {
     "data": {
      "image/png": "[encoded data removed]",
      "text/plain": [
       "<Figure size 432x288 with 1 Axes>"
      ]
     },
     "metadata": {},
     "output_type": "display_data"
    }
   ],
   "source": [
    "# Draw the graph without labels\n",
    "nx.draw(G, node_size=10, node_color='black', edge_color='red')\n",
    "\n",
    "# Display the plot\n",
    "plt.show()"
   ]
  },
  {
   "cell_type": "markdown",
   "id": "ed2fbd7e",
   "metadata": {},
   "source": [
    "# Community detection"
   ]
  },
  {
   "cell_type": "code",
   "execution_count": 76,
   "id": "844c2ae1",
   "metadata": {},
   "outputs": [],
   "source": [
    "partition = community_louvain.best_partition(G)"
   ]
  },
  {
   "cell_type": "code",
   "execution_count": 77,
   "id": "2dd3471b",
   "metadata": {},
   "outputs": [],
   "source": [
    "pos = nx.spring_layout(G)  # Position nodes using Fruchterman-Reingold force-directed algorithm"
   ]
  },
  {
   "cell_type": "code",
   "execution_count": 78,
   "id": "70c78209",
   "metadata": {},
   "outputs": [
    {
     "data": {
      "image/png": "[encoded data removed]",
      "text/plain": [
       "<Figure size 432x288 with 1 Axes>"
      ]
     },
     "metadata": {},
     "output_type": "display_data"
    }
   ],
   "source": [
    " # Position nodes using Fruchterman-Reingold force-directed algorithm\n",
    "cmap = plt.get_cmap('viridis')\n",
    "# Generate a color palette with a unique color for each community\n",
    "colors = [cmap(float(i) / max(partition.values())) for i in partition.values()]\n",
    "\n",
    "nx.draw_networkx_nodes(G, pos, node_color=colors, node_size=10, alpha=0.8)\n",
    "nx.draw_networkx_edges(G, pos, width=1.0, alpha=0.5)\n",
    "\n",
    "plt.show()"
   ]
  },
  {
   "cell_type": "markdown",
   "id": "ac008635",
   "metadata": {},
   "source": [
    "# Most Popular Author"
   ]
  },
  {
   "cell_type": "code",
   "execution_count": 79,
   "id": "90ab1954",
   "metadata": {},
   "outputs": [
    {
     "name": "stdout",
     "output_type": "stream",
     "text": [
      "Top 5 nodes with most connections: [89377, 89378, 2008910, 12135833, 18628480]\n",
      "Degrees of top 5 nodes: [18, 18, 18, 18, 18]\n"
     ]
    }
   ],
   "source": [
    "# Calculate the degree of each node\n",
    "degrees = G.degree()\n",
    "\n",
    "# Sort nodes by degree in descending order and get the top N\n",
    "N = 5\n",
    "top_n_nodes = sorted(degrees, key=lambda x: x[1], reverse=True)[:N]\n",
    "\n",
    "# Extract node IDs and their degrees\n",
    "top_n_nodes_ids = [node[0] for node in top_n_nodes]\n",
    "top_n_degrees = [node[1] for node in top_n_nodes]\n",
    "\n",
    "print(f\"Top {N} nodes with most connections: {top_n_nodes_ids}\")\n",
    "print(f\"Degrees of top {N} nodes: {top_n_degrees}\")"
   ]
  },
  {
   "cell_type": "code",
   "execution_count": 80,
   "id": "983c0dab",
   "metadata": {},
   "outputs": [
    {
     "name": "stdout",
     "output_type": "stream",
     "text": [
      "Rank 1 is: Penny from Heaven, with 18 similar books\n",
      "Rank 2 is: Dog Heaven, with 18 similar books\n",
      "Rank 3 is: Buenos días, tristeza, with 18 similar books\n",
      "Rank 4 is: Holding On, with 18 similar books\n",
      "Rank 5 is: Stoner, with 18 similar books\n"
     ]
    }
   ],
   "source": [
    "top_n_book_names = [books[books['book_id'] == i]['title'] for i in top_n_nodes_ids]\n",
    "\n",
    "for i in range(len(top_n_book_names)):\n",
    "    print(f\"Rank {i+1} is: {top_n_book_names[i].item()}, with {top_n_degrees[i]} similar books\")"
   ]
  },
  {
   "cell_type": "markdown",
   "id": "3073fdd1",
   "metadata": {},
   "source": [
    "# Best Author (Based on average rating)"
   ]
  },
  {
   "cell_type": "code",
   "execution_count": 90,
   "id": "21ed676d",
   "metadata": {},
   "outputs": [],
   "source": [
    "authors = {}\n",
    "authors_books = {}\n",
    "authors_average_rating = {}"
   ]
  },
  {
   "cell_type": "code",
   "execution_count": 91,
   "id": "62bd8510",
   "metadata": {},
   "outputs": [],
   "source": [
    "for i in range(len(books)):\n",
    "    authors[int(books['authors'][i][0]['author_id'])] = []\n",
    "    authors_books[int(books['authors'][i][0]['author_id'])] = []\n",
    "    authors_average_rating[int(books['authors'][i][0]['author_id'])] = 0"
   ]
  },
  {
   "cell_type": "code",
   "execution_count": 92,
   "id": "6f7cd401",
   "metadata": {},
   "outputs": [],
   "source": [
    "for i in range(len(books)):\n",
    "    authors[int(books['authors'][i][0]['author_id'])].append(books['average_rating'][i])\n",
    "    authors_books[int(books['authors'][i][0]['author_id'])].append(books['title'][i])\n",
    "    \n"
   ]
  },
  {
   "cell_type": "code",
   "execution_count": 93,
   "id": "0e0d0abb",
   "metadata": {},
   "outputs": [],
   "source": [
    "for id in authors:\n",
    "    temp_list = authors[id]\n",
    "    authors_average_rating[id] = sum(temp_list) / len(temp_list)"
   ]
  },
  {
   "cell_type": "code",
   "execution_count": 94,
   "id": "4f8fd533",
   "metadata": {},
   "outputs": [
    {
     "name": "stdout",
     "output_type": "stream",
     "text": [
      "{105737: 5.0, 7156864: 5.0, 8446312: 5.0, 7302232: 5.0, 403091: 5.0, 3175525: 5.0, 4177143: 5.0, 4985369: 5.0, 4656251: 5.0, 88017: 5.0}\n"
     ]
    }
   ],
   "source": [
    "sorted_dict = dict(sorted(authors_average_rating.items(), key=lambda item: item[1]))\n",
    "\n",
    "# The top N authors\n",
    "top_n = 10\n",
    "\n",
    "# Get the last n values from the dictionary\n",
    "last_n_values = dict(list(sorted_dict.items())[-top_n:])\n",
    "\n",
    "# Print the last n values\n",
    "print(last_n_values)"
   ]
  },
  {
   "cell_type": "code",
   "execution_count": 101,
   "id": "9e4f287f",
   "metadata": {},
   "outputs": [
    {
     "name": "stdout",
     "output_type": "stream",
     "text": [
      "Author ID: 105737, with average book rating of 5.0, has written\n",
      "Test of Faith: A Novel of Faith and Murder in the Southwest\n",
      "Author ID: 7156864, with average book rating of 5.0, has written\n",
      "Just a Vampire\n",
      "Author ID: 8446312, with average book rating of 5.0, has written\n",
      "Folie(s), 18 textes échappés de l'asile\n",
      "Author ID: 7302232, with average book rating of 5.0, has written\n",
      "ما وراء باب الحقيقة\n",
      "Author ID: 403091, with average book rating of 5.0, has written\n",
      "The Native American Curio Trade In New Mexico\n",
      "Author ID: 3175525, with average book rating of 5.0, has written\n",
      "Eden At Play: A Grown-Up Fable\n",
      "Author ID: 4177143, with average book rating of 5.0, has written\n",
      "You Have the Power!\n",
      "Author ID: 4985369, with average book rating of 5.0, has written\n",
      "The Devildogs of Old Sauk Trail: And Other Tales of Hope & Horror\n",
      "Author ID: 4656251, with average book rating of 5.0, has written\n",
      "Drum Machine\n",
      "Author ID: 88017, with average book rating of 5.0, has written\n",
      "Dragon Magazine #189\n"
     ]
    }
   ],
   "source": [
    "for author_id in last_n_values:\n",
    "    books_list = authors[author_id]\n",
    "    print(f\"Author ID: {author_id}, with average book rating of {last_n_values[author_id]}, has written\")\n",
    "    for book_title in authors_books[author_id]:\n",
    "        print(book_title)"
   ]
  }
 ],
 "metadata": {
  "celltoolbar": "Raw Cell Format",
  "kernelspec": {
   "display_name": "Python 3 (ipykernel)",
   "language": "python",
   "name": "python3"
  },
  "language_info": {
   "codemirror_mode": {
    "name": "ipython",
    "version": 3
   },
   "file_extension": ".py",
   "mimetype": "text/x-python",
   "name": "python",
   "nbconvert_exporter": "python",
   "pygments_lexer": "ipython3",
   "version": "3.9.7"
  }
 },
 "nbformat": 4,
 "nbformat_minor": 5
}
