{
 "cells": [
  {
   "cell_type": "code",
   "execution_count": 44,
   "id": "3ca25837-dec4-4403-b47a-10f4ed4a3a53",
   "metadata": {},
   "outputs": [],
   "source": [
    "import json\n",
    "import pandas as pd\n",
    "from tqdm import tqdm\n",
    "import networkx as nx\n",
    "import matplotlib.pyplot as plt\n",
    "import numpy as np"
   ]
  },
  {
   "cell_type": "code",
   "execution_count": 3,
   "id": "c542bd60-edae-455d-bedd-52d5bfb13ec1",
   "metadata": {},
   "outputs": [
    {
     "name": "stdout",
     "output_type": "stream",
     "text": [
      "   text_reviews_count  average_rating  \\\n",
      "0                   1            4.00   \n",
      "1                   7            4.03   \n",
      "2                3282            3.49   \n",
      "3                   7            4.13   \n",
      "4                   6            4.22   \n",
      "\n",
      "                                       similar_books  \\\n",
      "0                                                 []   \n",
      "1  [19997, 828466, 1569323, 425389, 1176674, 2627...   \n",
      "2  [6604176, 6054190, 2285777, 82641, 7569453, 70...   \n",
      "3                                                 []   \n",
      "4  [948696, 439885, 274955, 12978730, 372986, 216...   \n",
      "\n",
      "                                  authors               publisher  num_pages  \\\n",
      "0   [{'author_id': '604031', 'role': ''}]      St. Martin's Press        256   \n",
      "1    [{'author_id': '10333', 'role': ''}]  Nelson Doubleday, Inc.        600   \n",
      "2     [{'author_id': '9212', 'role': ''}]             Atria Books        368   \n",
      "3  [{'author_id': '3041852', 'role': ''}]    Yesterday's Classics        162   \n",
      "4    [{'author_id': '19158', 'role': ''}]              Seven Seas        216   \n",
      "\n",
      "   publication_year  book_id  ratings_count  \\\n",
      "0              1984  5333265              3   \n",
      "1              1987  7327624            140   \n",
      "2              2009  6066819          51184   \n",
      "3              2006   287141             46   \n",
      "4              2009  6066812             98   \n",
      "\n",
      "                                               title  \n",
      "0                        W.C. Fields: A Life on Film  \n",
      "1  The Unschooled Wizard (Sun Wolf and Starhawk, ...  \n",
      "2                               Best Friends Forever  \n",
      "3                      The Aeneid for Boys and Girls  \n",
      "4  All's Fairy in Love and War (Avalon: Web of Ma...  \n"
     ]
    }
   ],
   "source": [
    "import pandas as pd\n",
    "import json\n",
    "\n",
    "def process_book_data(data):\n",
    "    try:\n",
    "        text_reviews_count = int(data.get('text_reviews_count', 0))\n",
    "        average_rating = float(data.get('average_rating', 0))\n",
    "        publication_year = int(data.get('publication_year', 0))\n",
    "        num_pages = int(data.get('num_pages', 0))\n",
    "        ratings_count = int(data.get('ratings_count', 0))\n",
    "        book_id = int(data.get('book_id', 0))\n",
    "        return {\n",
    "            'text_reviews_count': text_reviews_count,\n",
    "            'average_rating': average_rating,\n",
    "            'similar_books': data.get('similar_books', []),\n",
    "            'authors': data.get('authors', []),\n",
    "            'publisher': data.get('publisher', ''),\n",
    "            'num_pages': num_pages,\n",
    "            'publication_year': publication_year,\n",
    "            'book_id': book_id,\n",
    "            'ratings_count': ratings_count,\n",
    "            'title': data.get('title', '')\n",
    "        }\n",
    "    except ValueError:\n",
    "        return None\n",
    "\n",
    "def read_books_data(filename, max_number_of_books):\n",
    "    rows_list = []\n",
    "    count = 0\n",
    "    with open(filename, \"r\") as jsonfile:\n",
    "        for line in jsonfile:\n",
    "            if count >= max_number_of_books:\n",
    "                break\n",
    "            \n",
    "            try:\n",
    "                data = json.loads(line)\n",
    "            except json.JSONDecodeError:\n",
    "                continue\n",
    "            \n",
    "            processed_data = process_book_data(data)\n",
    "            if processed_data:\n",
    "                rows_list.append(processed_data)\n",
    "                count += 1\n",
    "    \n",
    "    return rows_list\n",
    "\n",
    "max_number_of_books = 100000\n",
    "books_data = read_books_data('goodreads_books.json', max_number_of_books)\n",
    "books = pd.DataFrame(books_data)\n",
    "print(books.head())\n"
   ]
  },
  {
   "cell_type": "code",
   "execution_count": 8,
   "id": "bbf90c0d-d0fe-4629-9ad3-b6fe55526040",
   "metadata": {},
   "outputs": [
    {
     "data": {
      "text/html": [
       "<div>\n",
       "<style scoped>\n",
       "    .dataframe tbody tr th:only-of-type {\n",
       "        vertical-align: middle;\n",
       "    }\n",
       "\n",
       "    .dataframe tbody tr th {\n",
       "        vertical-align: top;\n",
       "    }\n",
       "\n",
       "    .dataframe thead th {\n",
       "        text-align: right;\n",
       "    }\n",
       "</style>\n",
       "<table border=\"1\" class=\"dataframe\">\n",
       "  <thead>\n",
       "    <tr style=\"text-align: right;\">\n",
       "      <th></th>\n",
       "      <th>similar_books</th>\n",
       "      <th>book_id</th>\n",
       "    </tr>\n",
       "  </thead>\n",
       "  <tbody>\n",
       "    <tr>\n",
       "      <th>0</th>\n",
       "      <td>[]</td>\n",
       "      <td>5333265</td>\n",
       "    </tr>\n",
       "    <tr>\n",
       "      <th>1</th>\n",
       "      <td>[19997, 828466, 1569323, 425389, 1176674, 2627...</td>\n",
       "      <td>7327624</td>\n",
       "    </tr>\n",
       "    <tr>\n",
       "      <th>2</th>\n",
       "      <td>[6604176, 6054190, 2285777, 82641, 7569453, 70...</td>\n",
       "      <td>6066819</td>\n",
       "    </tr>\n",
       "    <tr>\n",
       "      <th>3</th>\n",
       "      <td>[]</td>\n",
       "      <td>287141</td>\n",
       "    </tr>\n",
       "    <tr>\n",
       "      <th>4</th>\n",
       "      <td>[948696, 439885, 274955, 12978730, 372986, 216...</td>\n",
       "      <td>6066812</td>\n",
       "    </tr>\n",
       "    <tr>\n",
       "      <th>...</th>\n",
       "      <td>...</td>\n",
       "      <td>...</td>\n",
       "    </tr>\n",
       "    <tr>\n",
       "      <th>99995</th>\n",
       "      <td>[]</td>\n",
       "      <td>3440164</td>\n",
       "    </tr>\n",
       "    <tr>\n",
       "      <th>99996</th>\n",
       "      <td>[]</td>\n",
       "      <td>6310962</td>\n",
       "    </tr>\n",
       "    <tr>\n",
       "      <th>99997</th>\n",
       "      <td>[125321, 90192, 937643, 42068, 78960, 866301, ...</td>\n",
       "      <td>8112400</td>\n",
       "    </tr>\n",
       "    <tr>\n",
       "      <th>99998</th>\n",
       "      <td>[]</td>\n",
       "      <td>7055610</td>\n",
       "    </tr>\n",
       "    <tr>\n",
       "      <th>99999</th>\n",
       "      <td>[444494, 1273214, 21792501, 10489709, 1402352,...</td>\n",
       "      <td>13560348</td>\n",
       "    </tr>\n",
       "  </tbody>\n",
       "</table>\n",
       "<p>100000 rows × 2 columns</p>\n",
       "</div>"
      ],
      "text/plain": [
       "                                           similar_books   book_id\n",
       "0                                                     []   5333265\n",
       "1      [19997, 828466, 1569323, 425389, 1176674, 2627...   7327624\n",
       "2      [6604176, 6054190, 2285777, 82641, 7569453, 70...   6066819\n",
       "3                                                     []    287141\n",
       "4      [948696, 439885, 274955, 12978730, 372986, 216...   6066812\n",
       "...                                                  ...       ...\n",
       "99995                                                 []   3440164\n",
       "99996                                                 []   6310962\n",
       "99997  [125321, 90192, 937643, 42068, 78960, 866301, ...   8112400\n",
       "99998                                                 []   7055610\n",
       "99999  [444494, 1273214, 21792501, 10489709, 1402352,...  13560348\n",
       "\n",
       "[100000 rows x 2 columns]"
      ]
     },
     "execution_count": 8,
     "metadata": {},
     "output_type": "execute_result"
    }
   ],
   "source": [
    "drop_list = ['text_reviews_count', 'average_rating', 'authors',\n",
    "       'publisher', 'num_pages', 'publication_year',\n",
    "       'ratings_count', 'title']\n",
    "interaction_dataset = books.drop(columns=drop_list)\n",
    "interaction_dataset"
   ]
  },
  {
   "cell_type": "markdown",
   "id": "3db1fb9f-21f4-4cdf-a5c0-98eee88d3be0",
   "metadata": {},
   "source": [
    "# Create the graph"
   ]
  },
  {
   "cell_type": "code",
   "execution_count": 99,
   "id": "aaea0110-1e9e-4b5b-b604-3a04aebb4513",
   "metadata": {},
   "outputs": [
    {
     "name": "stderr",
     "output_type": "stream",
     "text": [
      "100%|███████████████████████████████████████████████████████████████████████| 100000/100000 [00:02<00:00, 48992.91it/s]\n"
     ]
    }
   ],
   "source": [
    "edge_list = []\n",
    "single_nodes = 0\n",
    "for i in tqdm(range(len(interaction_dataset))):\n",
    "    source = interaction_dataset['book_id'][i]\n",
    "    if len(interaction_dataset['similar_books'][i]) == 0:\n",
    "        single_nodes += 1\n",
    "    for destination in interaction_dataset['similar_books'][i]:\n",
    "        edge_list.append((source, int(destination)))\n",
    "\n",
    "G = nx.Graph()\n",
    "G.add_edges_from(edge_list)"
   ]
  },
  {
   "cell_type": "code",
   "execution_count": 100,
   "id": "fd70625f-357a-410a-9424-d536b8dbb9a5",
   "metadata": {},
   "outputs": [
    {
     "name": "stdout",
     "output_type": "stream",
     "text": [
      "There are 49199 single nodes\n"
     ]
    }
   ],
   "source": [
    "print(f\"There are {single_nodes} single nodes\")"
   ]
  },
  {
   "cell_type": "markdown",
   "id": "e37583a8-6989-454a-9b1e-c0171205206d",
   "metadata": {},
   "source": [
    "# Degree Distribution"
   ]
  },
  {
   "cell_type": "code",
   "execution_count": 102,
   "id": "f05ae585-230f-47e8-9691-ce10cad151d1",
   "metadata": {},
   "outputs": [],
   "source": [
    "import matplotlib.pyplot as plt\n",
    "import networkx as nx\n",
    "import numpy as np\n",
    "\n",
    "def calculate_degree_distribution(graph):\n",
    "    \"\"\"\n",
    "    Calculate the degree distribution of the given graph.\n",
    "\n",
    "    Parameters:\n",
    "    graph (networkx.Graph): A NetworkX graph object\n",
    "\n",
    "    Returns:\n",
    "    dict: Degree distribution where key is degree and value is the number of nodes with that degree\n",
    "    \"\"\"\n",
    "    degrees = map(graph.degree, graph.nodes())\n",
    "    degree_count = np.bincount(degrees)\n",
    "    degree_distribution = dict(filter(lambda x: x[1] > 0, enumerate(degree_count)))\n",
    "    return degree_distribution\n",
    "\n",
    "def plot_degree_distribution(degree_distribution):\n",
    "    degrees, counts = zip(*degree_distribution.items())\n",
    "\n",
    "    plt.bar(degrees, counts, color='blue')\n",
    "    plt.xlabel('Degree')\n",
    "    plt.ylabel('Number of Nodes')\n",
    "    plt.title('Degree Distribution')\n",
    "    plt.show()\n",
    "\n",
    "G = nx.fast_gnp_random_graph(100, 0.1)  # Example graph generation\n",
    "distribution = calculate_degree_distribution(G)\n",
    "plot_degree_distribution(distribution)\n"
   ]
  },
  {
   "cell_type": "code",
   "execution_count": 103,
   "id": "98eb758c-c9db-422d-984c-1010d273c9be",
   "metadata": {},
   "outputs": [
    {
     "data": {
      "image/png": "[encoded data removed]",
      "text/plain": [
       "<Figure size 640x480 with 1 Axes>"
      ]
     },
     "metadata": {},
     "output_type": "display_data"
    }
   ],
   "source": [
    "distribution = calculate_degree_distribution(G)\n",
    "plot_degree_distribution(distribution)\n"
   ]
  },
  {
   "cell_type": "markdown",
   "id": "e3685d14-70fd-4e30-9758-8e4684606537",
   "metadata": {},
   "source": [
    "# Total Nodes"
   ]
  },
  {
   "cell_type": "code",
   "execution_count": 105,
   "id": "a816bcf0-8c04-4395-9658-c665ab34ac88",
   "metadata": {},
   "outputs": [
    {
     "name": "stdout",
     "output_type": "stream",
     "text": [
      "The total number of unique nodes is: 265356\n"
     ]
    }
   ],
   "source": [
    "unique_nodes = G.number_of_nodes() #interaction_dataset['book_id'].nunique()\n",
    "print(f\"The total number of unique nodes is: {unique_nodes}\")"
   ]
  },
  {
   "cell_type": "markdown",
   "id": "e5c20e2f-2493-4a28-86ff-4f7b5d5ee2c4",
   "metadata": {},
   "source": [
    "# Total Edges"
   ]
  },
  {
   "cell_type": "code",
   "execution_count": 106,
   "id": "36787e4d-4b1b-461c-bfe9-820e7a06bc0e",
   "metadata": {},
   "outputs": [
    {
     "name": "stdout",
     "output_type": "stream",
     "text": [
      "Total number of edges in the graph: 775119\n"
     ]
    }
   ],
   "source": [
    "total_edges = G.number_of_edges()\n",
    "print(f\"Total number of edges in the graph: {total_edges}\")"
   ]
  },
  {
   "cell_type": "markdown",
   "id": "05b42383-e6a6-4844-91d1-b2ca4f79d0fa",
   "metadata": {},
   "source": [
    "# Average Path Length"
   ]
  },
  {
   "cell_type": "code",
   "execution_count": 107,
   "id": "1444d9e0-b51f-4a37-b464-2147756d7c9c",
   "metadata": {},
   "outputs": [],
   "source": [
    "def calculate_average_path_length(graph):\n",
    "    \"\"\"\n",
    "    Calculate the average path length of the given graph.\n",
    "\n",
    "    Parameters:\n",
    "    graph (networkx.Graph): A NetworkX graph object\n",
    "\n",
    "    Returns:\n",
    "    float: The average path length of the graph\n",
    "    \"\"\"\n",
    "    if nx.is_connected(graph):\n",
    "        return nx.average_shortest_path_length(graph)\n",
    "    else:\n",
    "        raise ValueError(\"Graph is not connected. Average path length is undefined.\")\n"
   ]
  },
  {
   "cell_type": "code",
   "execution_count": 108,
   "id": "cddbe008-05bd-4182-9446-425c36fc57d5",
   "metadata": {},
   "outputs": [
    {
     "name": "stdout",
     "output_type": "stream",
     "text": [
      "Graph is not connected. Average path length is undefined.\n"
     ]
    }
   ],
   "source": [
    "try:\n",
    "    avg_path_length = calculate_average_path_length(G)\n",
    "    print(f\"Average Path Length: {avg_path_length}\")\n",
    "except ValueError as e:\n",
    "    print(e)"
   ]
  },
  {
   "cell_type": "markdown",
   "id": "f0574cab-5f0a-4325-845d-b58c185502b2",
   "metadata": {},
   "source": [
    "# Lets try using sub components of the graph and calculate the average path length on them"
   ]
  },
  {
   "cell_type": "code",
   "execution_count": 111,
   "id": "7d3b199e-a93c-429d-96ec-a698ffec0c27",
   "metadata": {},
   "outputs": [],
   "source": [
    "def average_path_length_of_components(graph):\n",
    "    lengths = []\n",
    "    for component in nx.connected_components(graph):\n",
    "        print(len(lengths))\n",
    "        subgraph = graph.subgraph(component)\n",
    "        lengths.append(nx.average_shortest_path_length(subgraph))\n",
    "    return lengths"
   ]
  },
  {
   "cell_type": "code",
   "execution_count": null,
   "id": "2bcde567-1653-4cc6-8d91-c1e62e8a75d0",
   "metadata": {},
   "outputs": [
    {
     "name": "stdout",
     "output_type": "stream",
     "text": [
      "0\n"
     ]
    }
   ],
   "source": [
    "component_lengths = average_path_length_of_components(G)"
   ]
  },
  {
   "cell_type": "code",
   "execution_count": null,
   "id": "8f8bee65-fa43-4265-b49d-be7795c7685a",
   "metadata": {},
   "outputs": [],
   "source": [
    "print(\"Average Path Length of Each Connected Component:\")\n",
    "for i, length in enumerate(component_lengths, 1):\n",
    "    print(f\"Component {i}: {length}\")"
   ]
  },
  {
   "cell_type": "code",
   "execution_count": null,
   "id": "21c79db6-5309-433d-b1ae-97814327c992",
   "metadata": {},
   "outputs": [],
   "source": []
  },
  {
   "cell_type": "markdown",
   "id": "1bff0367-c0e5-4ec4-8399-283ab3fb96a2",
   "metadata": {},
   "source": [
    "# Average Clustering Coeficient"
   ]
  },
  {
   "cell_type": "code",
   "execution_count": 87,
   "id": "6f6616e9-ce1b-49ca-b1c4-3bd21ffa01e3",
   "metadata": {},
   "outputs": [],
   "source": [
    "def calculate_average_clustering_coefficient(graph):\n",
    "    \"\"\"\n",
    "    Calculate the average clustering coefficient of the given graph.\n",
    "\n",
    "    Parameters:\n",
    "    graph (networkx.Graph): A NetworkX graph object\n",
    "\n",
    "    Returns:\n",
    "    float: The average clustering coefficient of the graph\n",
    "    \"\"\"\n",
    "    return nx.average_clustering(graph)"
   ]
  },
  {
   "cell_type": "code",
   "execution_count": 88,
   "id": "11a4d756-c7c2-44be-88cc-82aa9c8930c8",
   "metadata": {},
   "outputs": [
    {
     "name": "stdout",
     "output_type": "stream",
     "text": [
      "Average Clustering Coefficient: 0.03526681922483934\n"
     ]
    }
   ],
   "source": [
    "avg_clustering_coefficient = calculate_average_clustering_coefficient(G)\n",
    "print(f\"Average Clustering Coefficient: {avg_clustering_coefficient}\")"
   ]
  },
  {
   "cell_type": "markdown",
   "id": "196c7944-d15e-4fae-94f1-02c1a51e0230",
   "metadata": {},
   "source": [
    "# Diameter"
   ]
  },
  {
   "cell_type": "code",
   "execution_count": 89,
   "id": "d787c638-45fc-4ed7-ae15-142923b693c0",
   "metadata": {},
   "outputs": [],
   "source": [
    "def calculate_diameter(graph):\n",
    "    \"\"\"\n",
    "    Calculate the diameter of the given graph.\n",
    "\n",
    "    Parameters:\n",
    "    graph (networkx.Graph): A NetworkX graph object\n",
    "\n",
    "    Returns:\n",
    "    int: The diameter of the graph or the largest connected component\n",
    "    \"\"\"\n",
    "    if nx.is_connected(graph):\n",
    "        return nx.diameter(graph)\n",
    "    else:\n",
    "        # Find the largest connected component\n",
    "        largest_cc = max(nx.connected_components(graph), key=len)\n",
    "        subgraph = graph.subgraph(largest_cc)\n",
    "        return nx.diameter(subgraph)"
   ]
  },
  {
   "cell_type": "code",
   "execution_count": null,
   "id": "d1a393b1-6dd2-4b80-8668-060f5f3892ba",
   "metadata": {},
   "outputs": [],
   "source": [
    "diameter = calculate_diameter(G)\n",
    "print(f\"Diameter: {diameter}\")"
   ]
  },
  {
   "cell_type": "code",
   "execution_count": null,
   "id": "e6a37b14-b585-479f-bb3f-5713ecae6bd3",
   "metadata": {},
   "outputs": [],
   "source": []
  },
  {
   "cell_type": "markdown",
   "id": "ff84d477-5024-4773-819d-de04f405ec61",
   "metadata": {},
   "source": [
    "# Show the figure"
   ]
  },
  {
   "cell_type": "code",
   "execution_count": null,
   "id": "a2e11042-8e45-4a9f-b66c-3703022abe58",
   "metadata": {},
   "outputs": [],
   "source": [
    "# Optionally, draw the graph\n",
    "plt.figure(figsize=(8, 6))\n",
    "nx.draw(G, with_labels=True, node_color='lightblue', edge_color='gray', node_size=700, font_size=20)\n",
    "plt.title(\"Graph from Node Indices\")\n",
    "plt.show()"
   ]
  }
 ],
 "metadata": {
  "kernelspec": {
   "display_name": "Python 3 (ipykernel)",
   "language": "python",
   "name": "python3"
  },
  "language_info": {
   "codemirror_mode": {
    "name": "ipython",
    "version": 3
   },
   "file_extension": ".py",
   "mimetype": "text/x-python",
   "name": "python",
   "nbconvert_exporter": "python",
   "pygments_lexer": "ipython3",
   "version": "3.9.7"
  }
 },
 "nbformat": 4,
 "nbformat_minor": 5
}
